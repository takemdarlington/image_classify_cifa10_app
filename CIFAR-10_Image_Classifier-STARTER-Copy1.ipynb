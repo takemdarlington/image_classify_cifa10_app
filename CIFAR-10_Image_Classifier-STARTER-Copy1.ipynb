{
 "cells": [
  {
   "cell_type": "markdown",
   "metadata": {},
   "source": [
    "# Introduction\n",
    "\n",
    "In this project, you will build a neural network of your own design to evaluate the CIFAR-10 dataset.\n",
    "\n",
    "To meet the requirements for this project, you will need to achieve an accuracy greater than 45%. \n",
    "If you want to beat Detectocorp's algorithm, you'll need to achieve an accuracy greater than 70%. \n",
    "(Beating Detectocorp's algorithm is not a requirement for passing this project, but you're encouraged to try!)\n",
    "\n",
    "Some of the benchmark results on CIFAR-10 include:\n",
    "\n",
    "78.9% Accuracy | [Deep Belief Networks; Krizhevsky, 2010](https://www.cs.toronto.edu/~kriz/conv-cifar10-aug2010.pdf)\n",
    "\n",
    "90.6% Accuracy | [Maxout Networks; Goodfellow et al., 2013](https://arxiv.org/pdf/1302.4389.pdf)\n",
    "\n",
    "96.0% Accuracy | [Wide Residual Networks; Zagoruyko et al., 2016](https://arxiv.org/pdf/1605.07146.pdf)\n",
    "\n",
    "99.0% Accuracy | [GPipe; Huang et al., 2018](https://arxiv.org/pdf/1811.06965.pdf)\n",
    "\n",
    "98.5% Accuracy | [Rethinking Recurrent Neural Networks and other Improvements for ImageClassification; Nguyen et al., 2020](https://arxiv.org/pdf/2007.15161.pdf)\n",
    "\n",
    "Research with this dataset is ongoing. Notably, many of these networks are quite large and quite expensive to train. \n",
    "\n",
    "## Imports"
   ]
  },
  {
   "cell_type": "code",
   "execution_count": 1,
   "metadata": {},
   "outputs": [],
   "source": [
    "## This cell contains the essential imports you will need – DO NOT CHANGE THE CONTENTS! ##\n",
    "import torch\n",
    "import torch.nn as nn\n",
    "import torch.nn.functional as F\n",
    "import torch.optim as optim\n",
    "import torchvision\n",
    "import torchvision.transforms as transforms\n",
    "import matplotlib.pyplot as plt\n",
    "import numpy as np"
   ]
  },
  {
   "cell_type": "markdown",
   "metadata": {},
   "source": [
    "## Load the Dataset\n",
    "\n",
    "Specify your transforms as a list first.\n",
    "The transforms module is already loaded as `transforms`.\n",
    "\n",
    "CIFAR-10 is fortunately included in the torchvision module.\n",
    "Then, you can create your dataset using the `CIFAR10` object from `torchvision.datasets` ([the documentation is available here](https://pytorch.org/docs/stable/torchvision/datasets.html#cifar)).\n",
    "Make sure to specify `download=True`! \n",
    "\n",
    "Once your dataset is created, you'll also need to define a `DataLoader` from the `torch.utils.data` module for both the train and the test set."
   ]
  },
  {
   "cell_type": "code",
   "execution_count": 2,
   "metadata": {},
   "outputs": [
    {
     "name": "stdout",
     "output_type": "stream",
     "text": [
      "Files already downloaded and verified\n",
      "Files already downloaded and verified\n"
     ]
    }
   ],
   "source": [
    "# Define transforms\n",
    "## YOUR CODE HERE ##\n",
    "data_dir = './data'\n",
    "\n",
    "\n",
    "# transform = transforms.Compose([transforms.ToTensor(),transforms.Normalize((0.5, 0.5, 0.5), (0.5, 0.5, 0.5))])\n",
    "\n",
    "# transform = transforms.Compose([transforms.RandomRotation(360), transforms.RandomHorizontalFlip(), transforms.ToTensor()])\n",
    "\n",
    "transform = transforms.Compose([transforms.RandomHorizontalFlip(), transforms.ToTensor()])\n",
    "\n",
    "# transforms.RandomHorizontalFlip()\n",
    "\n",
    "trainset = torchvision.datasets.CIFAR10(root=data_dir, train=True, download=True, transform=transform)\n",
    "\n",
    "train_loader = torch.utils.data.DataLoader(trainset, batch_size=5, shuffle=True, num_workers=2)\n",
    "\n",
    "testset = torchvision.datasets.CIFAR10(root=data_dir, train=False, download=True, transform=transform)\n",
    "\n",
    "test_loader = torch.utils.data.DataLoader(testset, batch_size=5, shuffle=False, num_workers=2)\n",
    "\n",
    "# The 10 classes in the dataset\n",
    "classes = ('plane', 'car', 'bird', 'cat', 'deer', 'dog', 'frog', 'horse', 'ship', 'truck')"
   ]
  },
  {
   "cell_type": "markdown",
   "metadata": {},
   "source": [
    "## Explore the Dataset\n",
    "Using matplotlib, numpy, and torch, explore the dimensions of your data.\n",
    "\n",
    "You can view images using the `show5` function defined below – it takes a data loader as an argument.\n",
    "Remember that normalized images will look really weird to you! You may want to try changing your transforms to view images.\n",
    "Typically using no transforms other than `toTensor()` works well for viewing – but not as well for training your network.\n",
    "If `show5` doesn't work, go back and check your code for creating your data loaders and your training/test sets."
   ]
  },
  {
   "cell_type": "code",
   "execution_count": 3,
   "metadata": {},
   "outputs": [],
   "source": [
    "def show5(img_loader):\n",
    "    dataiter = iter(img_loader)\n",
    "    \n",
    "    batch = next(dataiter)\n",
    "    labels = batch[1][0:5]\n",
    "    images = batch[0][0:5]\n",
    "    for i in range(5):\n",
    "        print(classes[labels[i]])\n",
    "    \n",
    "        image = images[i].numpy()\n",
    "        plt.imshow(np.rot90(image.T, k=3))\n",
    "        plt.show()"
   ]
  },
  {
   "cell_type": "code",
   "execution_count": 4,
   "metadata": {},
   "outputs": [
    {
     "name": "stdout",
     "output_type": "stream",
     "text": [
      "car\n"
     ]
    },
    {
     "data": {
      "image/png": "[encoded data removed]",
      "text/plain": [
       "<matplotlib.figure.Figure at 0x7fc859042908>"
      ]
     },
     "metadata": {
      "needs_background": "light"
     },
     "output_type": "display_data"
    },
    {
     "name": "stdout",
     "output_type": "stream",
     "text": [
      "car\n"
     ]
    },
    {
     "data": {
      "image/png": "[encoded data removed]",
      "text/plain": [
       "<matplotlib.figure.Figure at 0x7fc84fb5feb8>"
      ]
     },
     "metadata": {
      "needs_background": "light"
     },
     "output_type": "display_data"
    },
    {
     "name": "stdout",
     "output_type": "stream",
     "text": [
      "horse\n"
     ]
    },
    {
     "data": {
      "image/png": "[encoded data removed]",
      "text/plain": [
       "<matplotlib.figure.Figure at 0x7fc84db50630>"
      ]
     },
     "metadata": {
      "needs_background": "light"
     },
     "output_type": "display_data"
    },
    {
     "name": "stdout",
     "output_type": "stream",
     "text": [
      "dog\n"
     ]
    },
    {
     "data": {
      "image/png": "[encoded data removed]",
      "text/plain": [
       "<matplotlib.figure.Figure at 0x7fc84dacae10>"
      ]
     },
     "metadata": {
      "needs_background": "light"
     },
     "output_type": "display_data"
    },
    {
     "name": "stdout",
     "output_type": "stream",
     "text": [
      "dog\n"
     ]
    },
    {
     "data": {
      "image/png": "[encoded data removed]",
      "text/plain": [
       "<matplotlib.figure.Figure at 0x7fc84da8d860>"
      ]
     },
     "metadata": {
      "needs_background": "light"
     },
     "output_type": "display_data"
    }
   ],
   "source": [
    "# Explore data\n",
    "## YOUR CODE HERE ##\n",
    "show5(train_loader)"
   ]
  },
  {
   "cell_type": "code",
   "execution_count": 5,
   "metadata": {},
   "outputs": [
    {
     "data": {
      "text/plain": [
       "Dataset CIFAR10\n",
       "    Number of datapoints: 50000\n",
       "    Split: train\n",
       "    Root Location: ./data\n",
       "    Transforms (if any): Compose(\n",
       "                             RandomHorizontalFlip(p=0.5)\n",
       "                             ToTensor()\n",
       "                         )\n",
       "    Target Transforms (if any): None"
      ]
     },
     "execution_count": 5,
     "metadata": {},
     "output_type": "execute_result"
    }
   ],
   "source": [
    "trainset"
   ]
  },
  {
   "cell_type": "code",
   "execution_count": 21,
   "metadata": {},
   "outputs": [
    {
     "data": {
      "text/plain": [
       "50000"
      ]
     },
     "execution_count": 21,
     "metadata": {},
     "output_type": "execute_result"
    }
   ],
   "source": [
    "# size of trainset\n",
    "len(trainset)"
   ]
  },
  {
   "cell_type": "code",
   "execution_count": 22,
   "metadata": {},
   "outputs": [
    {
     "data": {
      "text/plain": [
       "2"
      ]
     },
     "execution_count": 22,
     "metadata": {},
     "output_type": "execute_result"
    }
   ],
   "source": [
    "# get sample of train data and see length\n",
    "sample = next(iter(trainset))\n",
    "len(sample)"
   ]
  },
  {
   "cell_type": "code",
   "execution_count": 23,
   "metadata": {},
   "outputs": [
    {
     "data": {
      "text/plain": [
       "torch.Tensor"
      ]
     },
     "execution_count": 23,
     "metadata": {},
     "output_type": "execute_result"
    }
   ],
   "source": [
    "# get the image and it's label\n",
    "image, label = sample\n",
    "type(image)"
   ]
  },
  {
   "cell_type": "code",
   "execution_count": 24,
   "metadata": {},
   "outputs": [
    {
     "data": {
      "text/plain": [
       "int"
      ]
     },
     "execution_count": 24,
     "metadata": {},
     "output_type": "execute_result"
    }
   ],
   "source": [
    "type(label)"
   ]
  },
  {
   "cell_type": "code",
   "execution_count": 25,
   "metadata": {},
   "outputs": [
    {
     "data": {
      "text/plain": [
       "torch.Size([3, 32, 32])"
      ]
     },
     "execution_count": 25,
     "metadata": {},
     "output_type": "execute_result"
    }
   ],
   "source": [
    "# view image shape\n",
    "image.shape"
   ]
  },
  {
   "cell_type": "code",
   "execution_count": 26,
   "metadata": {},
   "outputs": [
    {
     "data": {
      "text/plain": [
       "torch.Size([])"
      ]
     },
     "execution_count": 26,
     "metadata": {},
     "output_type": "execute_result"
    }
   ],
   "source": [
    "torch.tensor(label).shape"
   ]
  },
  {
   "cell_type": "code",
   "execution_count": 27,
   "metadata": {},
   "outputs": [
    {
     "data": {
      "text/plain": [
       "torch.Size([3, 32, 32])"
      ]
     },
     "execution_count": 27,
     "metadata": {},
     "output_type": "execute_result"
    }
   ],
   "source": [
    "image.squeeze().shape"
   ]
  },
  {
   "cell_type": "code",
   "execution_count": 28,
   "metadata": {},
   "outputs": [
    {
     "data": {
      "text/plain": [
       "10000"
      ]
     },
     "execution_count": 28,
     "metadata": {},
     "output_type": "execute_result"
    }
   ],
   "source": [
    "# length of test data\n",
    "len(testset)"
   ]
  },
  {
   "cell_type": "code",
   "execution_count": 5,
   "metadata": {},
   "outputs": [
    {
     "name": "stdout",
     "output_type": "stream",
     "text": [
      "cat\n"
     ]
    },
    {
     "data": {
      "image/png": "[encoded data removed]",
      "text/plain": [
       "<matplotlib.figure.Figure at 0x7f89945464a8>"
      ]
     },
     "metadata": {
      "needs_background": "light"
     },
     "output_type": "display_data"
    },
    {
     "name": "stdout",
     "output_type": "stream",
     "text": [
      "ship\n"
     ]
    },
    {
     "data": {
      "image/png": "[encoded data removed]",
      "text/plain": [
       "<matplotlib.figure.Figure at 0x7f8994560b70>"
      ]
     },
     "metadata": {
      "needs_background": "light"
     },
     "output_type": "display_data"
    },
    {
     "name": "stdout",
     "output_type": "stream",
     "text": [
      "ship\n"
     ]
    },
    {
     "data": {
      "image/png": "[encoded data removed]",
      "text/plain": [
       "<matplotlib.figure.Figure at 0x7f89943c5080>"
      ]
     },
     "metadata": {
      "needs_background": "light"
     },
     "output_type": "display_data"
    },
    {
     "name": "stdout",
     "output_type": "stream",
     "text": [
      "plane\n"
     ]
    },
    {
     "data": {
      "image/png": "[encoded data removed]",
      "text/plain": [
       "<matplotlib.figure.Figure at 0x7f89943b6128>"
      ]
     },
     "metadata": {
      "needs_background": "light"
     },
     "output_type": "display_data"
    },
    {
     "name": "stdout",
     "output_type": "stream",
     "text": [
      "frog\n"
     ]
    },
    {
     "data": {
      "image/png": "[encoded data removed]",
      "text/plain": [
       "<matplotlib.figure.Figure at 0x7f89943b66d8>"
      ]
     },
     "metadata": {
      "needs_background": "light"
     },
     "output_type": "display_data"
    }
   ],
   "source": [
    "show5(test_loader)"
   ]
  },
  {
   "cell_type": "markdown",
   "metadata": {},
   "source": [
    "## Build your Neural Network\n",
    "Using the layers in `torch.nn` (which has been imported as `nn`) and the `torch.nn.functional` module (imported as `F`), construct a neural network based on the parameters of the dataset. \n",
    "Feel free to construct a model of any architecture – feedforward, convolutional, or even something more advanced!"
   ]
  },
  {
   "cell_type": "code",
   "execution_count": 5,
   "metadata": {},
   "outputs": [
    {
     "data": {
      "text/plain": [
       "Net(\n",
       "  (conv1): Conv2d(3, 32, kernel_size=(3, 3), stride=(1, 1))\n",
       "  (conv2): Conv2d(32, 64, kernel_size=(3, 3), stride=(1, 1))\n",
       "  (conv3): Conv2d(64, 128, kernel_size=(3, 3), stride=(1, 1))\n",
       "  (pool): MaxPool2d(kernel_size=2, stride=2, padding=0, dilation=1, ceil_mode=False)\n",
       "  (fc1): Linear(in_features=512, out_features=128, bias=True)\n",
       "  (fc2): Linear(in_features=128, out_features=64, bias=True)\n",
       "  (fc3): Linear(in_features=64, out_features=32, bias=True)\n",
       "  (fc4): Linear(in_features=32, out_features=10, bias=True)\n",
       "  (dropout1): Dropout(p=0.2)\n",
       ")"
      ]
     },
     "execution_count": 5,
     "metadata": {},
     "output_type": "execute_result"
    }
   ],
   "source": [
    "## YOUR CODE HERE ##\n",
    "\n",
    "device = 'cuda' if torch.cuda.is_available() else 'cpu'\n",
    "\n",
    "class Net(nn.Module):\n",
    "    def __init__(self):\n",
    "        super(Net, self).__init__()\n",
    "        self.conv1 = nn.Conv2d(3, 32, 3)\n",
    "        self.conv2 = nn.Conv2d(32, 64, 3)\n",
    "        self.conv3 = nn.Conv2d(64, 128, 3)\n",
    "        self.pool = nn.MaxPool2d(2, 2)\n",
    "        self.fc1 = nn.Linear(128 * 2 * 2, 128)\n",
    "        self.fc2 = nn.Linear(128, 64)\n",
    "        self.fc3 = nn.Linear(64, 32)\n",
    "        self.fc4 = nn.Linear(32, 10)\n",
    "        self.dropout1 = nn.Dropout(p=0.2, inplace=False)\n",
    "\n",
    "    def forward(self, x):\n",
    "        x = self.pool(F.relu(self.conv1(x)))\n",
    "        x = self.dropout1(x)\n",
    "        x = self.pool(F.relu(self.conv2(x)))\n",
    "        x = self.dropout1(x)\n",
    "        x = self.pool(F.relu(self.conv3(x)))\n",
    "        x = self.dropout1(x)\n",
    "        x = x.view(-1, 128 * 2 * 2)\n",
    "        x = F.relu(self.fc1(x))\n",
    "        x = F.relu(self.fc2(x))\n",
    "        x = F.relu(self.fc3(x))\n",
    "        x = self.fc4(x) #output layer\n",
    "        \n",
    "        return x\n",
    "    \n",
    "model = Net()\n",
    "model.to(device)"
   ]
  },
  {
   "cell_type": "code",
   "execution_count": 6,
   "metadata": {},
   "outputs": [
    {
     "data": {
      "text/plain": [
       "<bound method Module.state_dict of Net(\n",
       "  (conv1): Conv2d(3, 32, kernel_size=(3, 3), stride=(1, 1))\n",
       "  (conv2): Conv2d(32, 64, kernel_size=(3, 3), stride=(1, 1))\n",
       "  (conv3): Conv2d(64, 128, kernel_size=(3, 3), stride=(1, 1))\n",
       "  (pool): MaxPool2d(kernel_size=2, stride=2, padding=0, dilation=1, ceil_mode=False)\n",
       "  (fc1): Linear(in_features=512, out_features=128, bias=True)\n",
       "  (fc2): Linear(in_features=128, out_features=64, bias=True)\n",
       "  (fc3): Linear(in_features=64, out_features=32, bias=True)\n",
       "  (fc4): Linear(in_features=32, out_features=10, bias=True)\n",
       "  (dropout1): Dropout(p=0.2)\n",
       ")>"
      ]
     },
     "execution_count": 6,
     "metadata": {},
     "output_type": "execute_result"
    }
   ],
   "source": [
    "model.state_dict"
   ]
  },
  {
   "cell_type": "markdown",
   "metadata": {},
   "source": [
    "Specify a loss function and an optimizer, and instantiate the model.\n",
    "\n",
    "If you use a less common loss function, please note why you chose that loss function in a comment."
   ]
  },
  {
   "cell_type": "code",
   "execution_count": 7,
   "metadata": {},
   "outputs": [],
   "source": [
    "## YOUR CODE HERE ##\n",
    "criterion = nn.CrossEntropyLoss()\n",
    "\n",
    "# Stochastic gradient descent: to perform parameter update for each training sample\n",
    "optimizer = optim.SGD(model.parameters(), lr=0.001, momentum=0.9)"
   ]
  },
  {
   "cell_type": "markdown",
   "metadata": {},
   "source": [
    "## Running your Neural Network\n",
    "Use whatever method you like to train your neural network, and ensure you record the average loss at each epoch. \n",
    "Don't forget to use `torch.device()` and the `.to()` method for both your model and your data if you are using GPU!\n",
    "\n",
    "If you want to print your loss during each epoch, you can use the `enumerate` function and print the loss after a set number of batches. 250 batches works well for most people!"
   ]
  },
  {
   "cell_type": "code",
   "execution_count": 8,
   "metadata": {},
   "outputs": [
    {
     "name": "stdout",
     "output_type": "stream",
     "text": [
      "1,  2000| loss: 2.304\n",
      "1,  4000| loss: 2.300\n",
      "1,  6000| loss: 2.198\n",
      "1,  8000| loss: 2.096\n",
      "1, 10000| loss: 2.019\n",
      "2,  2000| loss: 1.931\n",
      "2,  4000| loss: 1.828\n",
      "2,  6000| loss: 1.781\n",
      "2,  8000| loss: 1.718\n",
      "2, 10000| loss: 1.630\n",
      "3,  2000| loss: 1.550\n",
      "3,  4000| loss: 1.483\n",
      "3,  6000| loss: 1.449\n",
      "3,  8000| loss: 1.421\n",
      "3, 10000| loss: 1.373\n",
      "4,  2000| loss: 1.340\n",
      "4,  4000| loss: 1.311\n",
      "4,  6000| loss: 1.288\n",
      "4,  8000| loss: 1.261\n",
      "4, 10000| loss: 1.243\n",
      "5,  2000| loss: 1.215\n",
      "5,  4000| loss: 1.185\n",
      "5,  6000| loss: 1.190\n",
      "5,  8000| loss: 1.170\n",
      "5, 10000| loss: 1.155\n",
      "6,  2000| loss: 1.128\n",
      "6,  4000| loss: 1.124\n",
      "6,  6000| loss: 1.113\n",
      "6,  8000| loss: 1.089\n",
      "6, 10000| loss: 1.093\n",
      "7,  2000| loss: 1.049\n",
      "7,  4000| loss: 1.068\n",
      "7,  6000| loss: 1.068\n",
      "7,  8000| loss: 1.029\n",
      "7, 10000| loss: 1.030\n",
      "8,  2000| loss: 1.000\n",
      "8,  4000| loss: 0.979\n",
      "8,  6000| loss: 0.992\n",
      "8,  8000| loss: 0.999\n",
      "8, 10000| loss: 0.998\n",
      "9,  2000| loss: 0.963\n",
      "9,  4000| loss: 0.954\n",
      "9,  6000| loss: 0.953\n",
      "9,  8000| loss: 0.965\n",
      "9, 10000| loss: 0.944\n",
      "10,  2000| loss: 0.912\n",
      "10,  4000| loss: 0.924\n",
      "10,  6000| loss: 0.938\n",
      "10,  8000| loss: 0.927\n",
      "10, 10000| loss: 0.937\n",
      "11,  2000| loss: 0.901\n",
      "11,  4000| loss: 0.870\n",
      "11,  6000| loss: 0.910\n",
      "11,  8000| loss: 0.899\n",
      "11, 10000| loss: 0.900\n",
      "12,  2000| loss: 0.868\n",
      "12,  4000| loss: 0.883\n",
      "12,  6000| loss: 0.864\n",
      "12,  8000| loss: 0.865\n",
      "12, 10000| loss: 0.869\n",
      "13,  2000| loss: 0.846\n",
      "13,  4000| loss: 0.865\n",
      "13,  6000| loss: 0.853\n",
      "13,  8000| loss: 0.844\n",
      "13, 10000| loss: 0.843\n",
      "14,  2000| loss: 0.823\n",
      "14,  4000| loss: 0.840\n",
      "14,  6000| loss: 0.830\n",
      "14,  8000| loss: 0.826\n",
      "14, 10000| loss: 0.843\n",
      "15,  2000| loss: 0.791\n",
      "15,  4000| loss: 0.821\n",
      "15,  6000| loss: 0.813\n",
      "15,  8000| loss: 0.818\n",
      "15, 10000| loss: 0.818\n",
      "16,  2000| loss: 0.811\n",
      "16,  4000| loss: 0.799\n",
      "16,  6000| loss: 0.796\n",
      "16,  8000| loss: 0.789\n",
      "16, 10000| loss: 0.780\n",
      "17,  2000| loss: 0.775\n",
      "17,  4000| loss: 0.768\n",
      "17,  6000| loss: 0.777\n",
      "17,  8000| loss: 0.786\n",
      "17, 10000| loss: 0.793\n",
      "18,  2000| loss: 0.773\n",
      "18,  4000| loss: 0.783\n",
      "18,  6000| loss: 0.783\n",
      "18,  8000| loss: 0.777\n",
      "18, 10000| loss: 0.758\n",
      "19,  2000| loss: 0.765\n",
      "19,  4000| loss: 0.758\n",
      "19,  6000| loss: 0.758\n",
      "19,  8000| loss: 0.747\n",
      "19, 10000| loss: 0.753\n",
      "20,  2000| loss: 0.734\n",
      "20,  4000| loss: 0.734\n",
      "20,  6000| loss: 0.739\n",
      "20,  8000| loss: 0.755\n",
      "20, 10000| loss: 0.753\n",
      "Training done!\n"
     ]
    }
   ],
   "source": [
    "## YOUR CODE HERE ##\n",
    "epoch_losses = []\n",
    "\n",
    "model.train()\n",
    "\n",
    "for epoch in range(20):\n",
    "    running_loss = 0.0\n",
    "    saved_loss = 0.0\n",
    "    for i, data in enumerate(train_loader, 0):\n",
    "        \n",
    "        # get inputs and labels and convert to appropriate device\n",
    "        inputs, labels = data\n",
    "        inputs, labels = inputs.to(device), labels.to(device)\n",
    "        \n",
    "        # zero the parameter gradients\n",
    "        optimizer.zero_grad()\n",
    "\n",
    "        outputs = model(inputs)\n",
    "        loss = criterion(outputs, labels)\n",
    "        loss.backward()\n",
    "        optimizer.step()\n",
    "\n",
    "        # print stats\n",
    "        running_loss += loss.item()\n",
    "        if i % 2000 == 1999:  # print every 2000 mini-batches\n",
    "            print('%d, %5d| loss: %.3f' %(epoch+1, i+1, running_loss/2000))\n",
    "            \n",
    "            saved_loss = running_loss\n",
    "            running_loss = 0.0\n",
    "    epoch_losses.append(saved_loss/10000)\n",
    "\n",
    "print('Training done!')  # print when finished training"
   ]
  },
  {
   "cell_type": "markdown",
   "metadata": {},
   "source": [
    "Plot the training loss (and validation loss/accuracy, if recorded)."
   ]
  },
  {
   "cell_type": "code",
   "execution_count": 9,
   "metadata": {},
   "outputs": [
    {
     "data": {
      "text/plain": [
       "[0.4038905206441879,\n",
       " 0.3259261427104473,\n",
       " 0.2745462804347277,\n",
       " 0.24856674101650714,\n",
       " 0.2309415731653571,\n",
       " 0.21851373130865395,\n",
       " 0.20609788771905005,\n",
       " 0.19951859036013483,\n",
       " 0.18885543845407665,\n",
       " 0.18743674708660693,\n",
       " 0.17991463386900722,\n",
       " 0.17384739711284639,\n",
       " 0.16859516934817656,\n",
       " 0.1685409211764112,\n",
       " 0.16352564843958245,\n",
       " 0.15600774603094905,\n",
       " 0.1586869150808081,\n",
       " 0.1515178101210855,\n",
       " 0.15065708347838372,\n",
       " 0.1505628332162276]"
      ]
     },
     "execution_count": 9,
     "metadata": {},
     "output_type": "execute_result"
    }
   ],
   "source": [
    "## YOUR CODE HERE ##\n",
    "epoch_losses"
   ]
  },
  {
   "cell_type": "code",
   "execution_count": 10,
   "metadata": {},
   "outputs": [
    {
     "data": {
      "image/png": "[encoded data removed]",
      "text/plain": [
       "<matplotlib.figure.Figure at 0x7fc84d9b77f0>"
      ]
     },
     "metadata": {
      "needs_background": "light"
     },
     "output_type": "display_data"
    }
   ],
   "source": [
    "epochs = range(1,21)\n",
    "plt.plot(epochs, epoch_losses, 'g', label='Training loss')\n",
    "\n",
    "plt.title('Trainingloss')\n",
    "plt.xlabel('Epochs')\n",
    "plt.ylabel('Loss')\n",
    "plt.legend()\n",
    "plt.show()"
   ]
  },
  {
   "cell_type": "markdown",
   "metadata": {},
   "source": [
    "## Testing your model\n",
    "Using the previously created `DataLoader` for the test set, compute the percentage of correct predictions using the highest probability prediction. \n",
    "\n",
    "If your accuracy is over 70%, great work! \n",
    "This is a hard task to exceed 70% on.\n",
    "\n",
    "If your accuracy is under 45%, you'll need to make improvements.\n",
    "Go back and check your model architecture, loss function, and optimizer to make sure they're appropriate for an image classification task."
   ]
  },
  {
   "cell_type": "code",
   "execution_count": 11,
   "metadata": {},
   "outputs": [
    {
     "name": "stdout",
     "output_type": "stream",
     "text": [
      "Accuracy: 76 %\n"
     ]
    }
   ],
   "source": [
    "## YOUR CODE HERE ##\n",
    "\n",
    "total = 0\n",
    "correct = 0\n",
    "\n",
    "model.eval()\n",
    "with torch.no_grad():\n",
    "    for data in test_loader:\n",
    "        images, labels = data\n",
    "        images, labels = images.to(device), labels.to(device)\n",
    "        outputs = model(images)\n",
    "        _, predicted = torch.max(outputs.data, 1)\n",
    "        total += labels.size(0)\n",
    "        correct += (predicted == labels).sum().item()\n",
    "\n",
    "print('Accuracy: %d %%' % (100 * correct / total))"
   ]
  },
  {
   "cell_type": "code",
   "execution_count": 12,
   "metadata": {},
   "outputs": [
    {
     "name": "stderr",
     "output_type": "stream",
     "text": [
      "/opt/conda/lib/python3.6/site-packages/torch/serialization.py:193: UserWarning: Couldn't retrieve source code for container of type Net. It won't be checked for correctness upon loading.\n",
      "  \"type \" + obj.__name__ + \". It won't be checked \"\n"
     ]
    }
   ],
   "source": [
    "checkpoint = {'model': model,\n",
    "          'state_dict': model.state_dict(),\n",
    "          'optimizer' : optimizer.state_dict()}\n",
    "\n",
    "torch.save(checkpoint, 'checkpoint.pth')"
   ]
  },
  {
   "cell_type": "code",
   "execution_count": 13,
   "metadata": {},
   "outputs": [],
   "source": [
    "def load_checkpoint(filepath):\n",
    "    checkpoint = torch.load(filepath)\n",
    "    model = checkpoint['model']\n",
    "    model.load_state_dict(checkpoint['state_dict'])\n",
    "    for parameter in model.parameters():\n",
    "        parameter.requires_grad = False\n",
    "\n",
    "    model.eval()\n",
    "    return model\n",
    "\n",
    "model = load_checkpoint('checkpoint.pth')"
   ]
  },
  {
   "cell_type": "code",
   "execution_count": 130,
   "metadata": {},
   "outputs": [
    {
     "data": {
      "text/plain": [
       "Net(\n",
       "  (conv1): Conv2d(3, 32, kernel_size=(3, 3), stride=(1, 1))\n",
       "  (conv2): Conv2d(32, 64, kernel_size=(3, 3), stride=(1, 1))\n",
       "  (conv3): Conv2d(64, 128, kernel_size=(3, 3), stride=(1, 1))\n",
       "  (pool): MaxPool2d(kernel_size=2, stride=2, padding=0, dilation=1, ceil_mode=False)\n",
       "  (fc1): Linear(in_features=512, out_features=128, bias=True)\n",
       "  (fc2): Linear(in_features=128, out_features=64, bias=True)\n",
       "  (fc3): Linear(in_features=64, out_features=32, bias=True)\n",
       "  (fc4): Linear(in_features=32, out_features=10, bias=True)\n",
       "  (dropout1): Dropout(p=0.2)\n",
       ")"
      ]
     },
     "execution_count": 130,
     "metadata": {},
     "output_type": "execute_result"
    }
   ],
   "source": [
    "model.to(device)"
   ]
  },
  {
   "cell_type": "markdown",
   "metadata": {},
   "source": [
    "## Saving your model\n",
    "Using `torch.save`, save your model for future loading."
   ]
  },
  {
   "cell_type": "code",
   "execution_count": 129,
   "metadata": {},
   "outputs": [
    {
     "name": "stderr",
     "output_type": "stream",
     "text": [
      "/opt/conda/lib/python3.6/site-packages/torch/serialization.py:193: UserWarning: Couldn't retrieve source code for container of type Net. It won't be checked for correctness upon loading.\n",
      "  \"type \" + obj.__name__ + \". It won't be checked \"\n"
     ]
    }
   ],
   "source": [
    "## YOUR CODE HERE ##\n",
    "torch.save(model, \"saved_model.pth\")"
   ]
  },
  {
   "cell_type": "markdown",
   "metadata": {},
   "source": [
    "## Make a Recommendation\n",
    "\n",
    "Based on your evaluation, what is your recommendation on whether to build or buy? Explain your reasoning below.\n",
    "\n",
    "Some things to consider as you formulate your recommendation:\n",
    "* How does your model compare to Detectocorp's model?\n",
    "* How does it compare to the far more advanced solutions in the literature? \n",
    "* What did you do to get the accuracy you achieved? \n",
    "* Is it necessary to improve this accuracy? If so, what sort of work would be involved in improving it?"
   ]
  },
  {
   "cell_type": "markdown",
   "metadata": {},
   "source": [
    "\n",
    "\n",
    "Getting an accuracy of 75% which is more than Detectocorp's model. If this accuracy could be achieved in-house of this short period of time and reseach, then we could obviously improve on our in-house model. So my recommendation is that we use the in-house model and not buy from Detectocorp.\n",
    "\n",
    "Comparing the accuracy of our in-house model to the advanced solutions in the literature, our accuracy is almost nearing **Deep Belief Networks; Krizhevsky, 2010** . So technically, the in-house model is 6th on the list.\n",
    "\n",
    "\n",
    "To achive this accuracy, I tuned params like learning rate, batch size, layers of the architecture and training. Also shuffled the training data so that the images are well mixed up to avoid overfitting. Also worked on the number of epochs to make sure that the model does not overfit. I also used GPU which makes the model perform better.\n",
    "\n",
    "Yes it necessary to improve the accuracy so that we can even achieve 100%. When looking at hard realtime time systems like in self driving cars, it is important that the model accurately identifies objects so that it doesn't make mistakes as it could be disastrous. In order to improve the model's accuracy, we could work on adding new layers and tuning the learning rate and epochs.\n",
    "\n",
    "Thanks!"
   ]
  },
  {
   "cell_type": "markdown",
   "metadata": {},
   "source": [
    "## Submit Your Project\n",
    "\n",
    "When you are finished editing the notebook and are ready to turn it in, simply click the **SUBMIT PROJECT** button in the lower right.\n",
    "\n",
    "Once you submit your project, we'll review your work and give you feedback if there's anything that you need to work on. If you'd like to see the exact points that your reviewer will check for when looking at your work, you can have a look over the project [rubric](https://review.udacity.com/#!/rubrics/3077/view)."
   ]
  },
  {
   "cell_type": "markdown",
   "metadata": {},
   "source": [
    "## Load model"
   ]
  },
  {
   "cell_type": "code",
   "execution_count": 131,
   "metadata": {},
   "outputs": [],
   "source": [
    "from PIL import Image\n"
   ]
  },
  {
   "cell_type": "code",
   "execution_count": 168,
   "metadata": {},
   "outputs": [],
   "source": [
    "image_path = './car2.jpeg'\n",
    "\n",
    "# image_path = './ship1.jpeg'\n",
    "\n",
    "# image_path = 'www.cdc.gov/healthypets/images/pets/cute-dog-headshot.jpg'\n",
    "# pil_image = Image.open(image_path)\n",
    "pil_image = Image.open(image_path)"
   ]
  },
  {
   "cell_type": "code",
   "execution_count": 169,
   "metadata": {},
   "outputs": [],
   "source": [
    "img_loader = transforms.Compose([\n",
    "        transforms.Resize((32,32)),\n",
    "        transforms.ToTensor()])\n",
    "    \n",
    "ts_image = img_loader(pil_image).float()\n"
   ]
  },
  {
   "cell_type": "code",
   "execution_count": 170,
   "metadata": {},
   "outputs": [
    {
     "data": {
      "text/plain": [
       "torch.Size([3, 32, 32])"
      ]
     },
     "execution_count": 170,
     "metadata": {},
     "output_type": "execute_result"
    }
   ],
   "source": [
    "ts_image.shape"
   ]
  },
  {
   "cell_type": "code",
   "execution_count": 171,
   "metadata": {},
   "outputs": [
    {
     "data": {
      "text/plain": [
       "array([[[ 0.87450981,  0.89803922,  0.91764706, ...,  0.90588236,\n",
       "          0.88627452,  0.86666667],\n",
       "        [ 0.90196079,  0.92156863,  0.93725491, ...,  0.92941177,\n",
       "          0.9137255 ,  0.89411765],\n",
       "        [ 0.9254902 ,  0.94117647,  0.95686275, ...,  0.94901961,\n",
       "          0.93333334,  0.91764706],\n",
       "        ..., \n",
       "        [ 0.4627451 ,  0.52156866,  0.57254905, ...,  0.3137255 ,\n",
       "          0.21960784,  0.18039216],\n",
       "        [ 0.42745098,  0.49803922,  0.54901963, ...,  0.34117648,\n",
       "          0.27843139,  0.23137255],\n",
       "        [ 0.40784314,  0.4509804 ,  0.50980395, ...,  0.27843139,\n",
       "          0.24313726,  0.24313726]],\n",
       "\n",
       "       [[ 0.87450981,  0.89803922,  0.91764706, ...,  0.9137255 ,\n",
       "          0.89411765,  0.87058824],\n",
       "        [ 0.88627452,  0.90980393,  0.92941177, ...,  0.92156863,\n",
       "          0.90588236,  0.88235295],\n",
       "        [ 0.90196079,  0.92156863,  0.93725491, ...,  0.93333334,\n",
       "          0.9137255 ,  0.89411765],\n",
       "        ..., \n",
       "        [ 0.29803923,  0.33725491,  0.38039216, ...,  0.19215687,\n",
       "          0.13725491,  0.11764706],\n",
       "        [ 0.26274511,  0.31764707,  0.35686275, ...,  0.20392157,\n",
       "          0.16470589,  0.14117648],\n",
       "        [ 0.25490198,  0.28627452,  0.32941177, ...,  0.16470589,\n",
       "          0.14509805,  0.14901961]],\n",
       "\n",
       "       [[ 0.85882354,  0.88235295,  0.90980393, ...,  0.90588236,\n",
       "          0.88235295,  0.85490197],\n",
       "        [ 0.87450981,  0.89411765,  0.9137255 , ...,  0.90980393,\n",
       "          0.89019608,  0.86666667],\n",
       "        [ 0.88627452,  0.90588236,  0.92156863, ...,  0.91764706,\n",
       "          0.89803922,  0.87450981],\n",
       "        ..., \n",
       "        [ 0.20392157,  0.22745098,  0.25490198, ...,  0.09019608,\n",
       "          0.04313726,  0.03529412],\n",
       "        [ 0.17647059,  0.21176471,  0.23529412, ...,  0.09803922,\n",
       "          0.07843138,  0.07058824],\n",
       "        [ 0.17254902,  0.19607843,  0.22352941, ...,  0.07843138,\n",
       "          0.0627451 ,  0.07058824]]], dtype=float32)"
      ]
     },
     "execution_count": 171,
     "metadata": {},
     "output_type": "execute_result"
    }
   ],
   "source": [
    "ts_image.numpy()"
   ]
  },
  {
   "cell_type": "code",
   "execution_count": 172,
   "metadata": {},
   "outputs": [
    {
     "data": {
      "image/png": "[encoded data removed]",
      "text/plain": [
       "<matplotlib.figure.Figure at 0x7fc858ec3f98>"
      ]
     },
     "metadata": {
      "needs_background": "light"
     },
     "output_type": "display_data"
    }
   ],
   "source": [
    "plt.imshow(ts_image[0])\n",
    "plt.show()"
   ]
  },
  {
   "cell_type": "code",
   "execution_count": 173,
   "metadata": {},
   "outputs": [
    {
     "data": {
      "text/plain": [
       "tensor([[[ 0.8745,  0.8980,  0.9176,  ...,  0.9059,  0.8863,  0.8667],\n",
       "         [ 0.9020,  0.9216,  0.9373,  ...,  0.9294,  0.9137,  0.8941],\n",
       "         [ 0.9255,  0.9412,  0.9569,  ...,  0.9490,  0.9333,  0.9176],\n",
       "         ...,\n",
       "         [ 0.4627,  0.5216,  0.5725,  ...,  0.3137,  0.2196,  0.1804],\n",
       "         [ 0.4275,  0.4980,  0.5490,  ...,  0.3412,  0.2784,  0.2314],\n",
       "         [ 0.4078,  0.4510,  0.5098,  ...,  0.2784,  0.2431,  0.2431]],\n",
       "\n",
       "        [[ 0.8745,  0.8980,  0.9176,  ...,  0.9137,  0.8941,  0.8706],\n",
       "         [ 0.8863,  0.9098,  0.9294,  ...,  0.9216,  0.9059,  0.8824],\n",
       "         [ 0.9020,  0.9216,  0.9373,  ...,  0.9333,  0.9137,  0.8941],\n",
       "         ...,\n",
       "         [ 0.2980,  0.3373,  0.3804,  ...,  0.1922,  0.1373,  0.1176],\n",
       "         [ 0.2627,  0.3176,  0.3569,  ...,  0.2039,  0.1647,  0.1412],\n",
       "         [ 0.2549,  0.2863,  0.3294,  ...,  0.1647,  0.1451,  0.1490]],\n",
       "\n",
       "        [[ 0.8588,  0.8824,  0.9098,  ...,  0.9059,  0.8824,  0.8549],\n",
       "         [ 0.8745,  0.8941,  0.9137,  ...,  0.9098,  0.8902,  0.8667],\n",
       "         [ 0.8863,  0.9059,  0.9216,  ...,  0.9176,  0.8980,  0.8745],\n",
       "         ...,\n",
       "         [ 0.2039,  0.2275,  0.2549,  ...,  0.0902,  0.0431,  0.0353],\n",
       "         [ 0.1765,  0.2118,  0.2353,  ...,  0.0980,  0.0784,  0.0706],\n",
       "         [ 0.1725,  0.1961,  0.2235,  ...,  0.0784,  0.0627,  0.0706]]], device='cuda:0')"
      ]
     },
     "execution_count": 173,
     "metadata": {},
     "output_type": "execute_result"
    }
   ],
   "source": [
    "ts_image.to(device)"
   ]
  },
  {
   "cell_type": "code",
   "execution_count": 174,
   "metadata": {},
   "outputs": [
    {
     "data": {
      "text/plain": [
       "tensor([[[[ 0.8745,  0.8980,  0.9176,  ...,  0.9059,  0.8863,  0.8667],\n",
       "          [ 0.9020,  0.9216,  0.9373,  ...,  0.9294,  0.9137,  0.8941],\n",
       "          [ 0.9255,  0.9412,  0.9569,  ...,  0.9490,  0.9333,  0.9176],\n",
       "          ...,\n",
       "          [ 0.4627,  0.5216,  0.5725,  ...,  0.3137,  0.2196,  0.1804],\n",
       "          [ 0.4275,  0.4980,  0.5490,  ...,  0.3412,  0.2784,  0.2314],\n",
       "          [ 0.4078,  0.4510,  0.5098,  ...,  0.2784,  0.2431,  0.2431]],\n",
       "\n",
       "         [[ 0.8745,  0.8980,  0.9176,  ...,  0.9137,  0.8941,  0.8706],\n",
       "          [ 0.8863,  0.9098,  0.9294,  ...,  0.9216,  0.9059,  0.8824],\n",
       "          [ 0.9020,  0.9216,  0.9373,  ...,  0.9333,  0.9137,  0.8941],\n",
       "          ...,\n",
       "          [ 0.2980,  0.3373,  0.3804,  ...,  0.1922,  0.1373,  0.1176],\n",
       "          [ 0.2627,  0.3176,  0.3569,  ...,  0.2039,  0.1647,  0.1412],\n",
       "          [ 0.2549,  0.2863,  0.3294,  ...,  0.1647,  0.1451,  0.1490]],\n",
       "\n",
       "         [[ 0.8588,  0.8824,  0.9098,  ...,  0.9059,  0.8824,  0.8549],\n",
       "          [ 0.8745,  0.8941,  0.9137,  ...,  0.9098,  0.8902,  0.8667],\n",
       "          [ 0.8863,  0.9059,  0.9216,  ...,  0.9176,  0.8980,  0.8745],\n",
       "          ...,\n",
       "          [ 0.2039,  0.2275,  0.2549,  ...,  0.0902,  0.0431,  0.0353],\n",
       "          [ 0.1765,  0.2118,  0.2353,  ...,  0.0980,  0.0784,  0.0706],\n",
       "          [ 0.1725,  0.1961,  0.2235,  ...,  0.0784,  0.0627,  0.0706]]]])"
      ]
     },
     "execution_count": 174,
     "metadata": {},
     "output_type": "execute_result"
    }
   ],
   "source": [
    "ts_image.unsqueeze_(0)"
   ]
  },
  {
   "cell_type": "code",
   "execution_count": 175,
   "metadata": {},
   "outputs": [
    {
     "data": {
      "text/plain": [
       "Net(\n",
       "  (conv1): Conv2d(3, 32, kernel_size=(3, 3), stride=(1, 1))\n",
       "  (conv2): Conv2d(32, 64, kernel_size=(3, 3), stride=(1, 1))\n",
       "  (conv3): Conv2d(64, 128, kernel_size=(3, 3), stride=(1, 1))\n",
       "  (pool): MaxPool2d(kernel_size=2, stride=2, padding=0, dilation=1, ceil_mode=False)\n",
       "  (fc1): Linear(in_features=512, out_features=128, bias=True)\n",
       "  (fc2): Linear(in_features=128, out_features=64, bias=True)\n",
       "  (fc3): Linear(in_features=64, out_features=32, bias=True)\n",
       "  (fc4): Linear(in_features=32, out_features=10, bias=True)\n",
       "  (dropout1): Dropout(p=0.2)\n",
       ")"
      ]
     },
     "execution_count": 175,
     "metadata": {},
     "output_type": "execute_result"
    }
   ],
   "source": [
    "model.to(device)"
   ]
  },
  {
   "cell_type": "code",
   "execution_count": 176,
   "metadata": {},
   "outputs": [],
   "source": [
    "outputs = model(ts_image.to(device))"
   ]
  },
  {
   "cell_type": "code",
   "execution_count": 177,
   "metadata": {},
   "outputs": [],
   "source": [
    "_, predicted = torch.max(outputs.data, 1)"
   ]
  },
  {
   "cell_type": "code",
   "execution_count": 178,
   "metadata": {},
   "outputs": [
    {
     "data": {
      "text/plain": [
       "tensor([ 1], device='cuda:0')"
      ]
     },
     "execution_count": 178,
     "metadata": {},
     "output_type": "execute_result"
    }
   ],
   "source": [
    "predicted"
   ]
  },
  {
   "cell_type": "code",
   "execution_count": 179,
   "metadata": {},
   "outputs": [
    {
     "data": {
      "text/plain": [
       "'car'"
      ]
     },
     "execution_count": 179,
     "metadata": {},
     "output_type": "execute_result"
    }
   ],
   "source": [
    "classes[predicted[0]]"
   ]
  },
  {
   "cell_type": "code",
   "execution_count": null,
   "metadata": {},
   "outputs": [],
   "source": []
  }
 ],
 "metadata": {
  "kernelspec": {
   "display_name": "Python 3",
   "language": "python",
   "name": "python3"
  },
  "language_info": {
   "codemirror_mode": {
    "name": "ipython",
    "version": 3
   },
   "file_extension": ".py",
   "mimetype": "text/x-python",
   "name": "python",
   "nbconvert_exporter": "python",
   "pygments_lexer": "ipython3",
   "version": "3.6.3"
  }
 },
 "nbformat": 4,
 "nbformat_minor": 4
}
